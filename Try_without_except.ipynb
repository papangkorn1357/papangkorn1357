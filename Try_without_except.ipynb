{
  "nbformat": 4,
  "nbformat_minor": 0,
  "metadata": {
    "colab": {
      "provenance": [],
      "authorship_tag": "ABX9TyPYfeqfMKgCJdBiBRQTOJkz",
      "include_colab_link": true
    },
    "kernelspec": {
      "name": "python3",
      "display_name": "Python 3"
    },
    "language_info": {
      "name": "python"
    }
  },
  "cells": [
    {
      "cell_type": "markdown",
      "metadata": {
        "id": "view-in-github",
        "colab_type": "text"
      },
      "source": [
        "<a href=\"https://colab.research.google.com/github/papangkorn1357/papangkorn1357/blob/main/Try_without_except.ipynb\" target=\"_parent\"><img src=\"https://colab.research.google.com/assets/colab-badge.svg\" alt=\"Open In Colab\"/></a>"
      ]
    },
    {
      "cell_type": "markdown",
      "source": [
        "### ***กรุณาติดตั้งแพคเกจโดยการ Pip install ก่อน***"
      ],
      "metadata": {
        "id": "reeiLqdkld3q"
      }
    },
    {
      "cell_type": "code",
      "source": [
        "!pip install ColabTurtlePlus"
      ],
      "metadata": {
        "id": "5XUVRG7TnFkB"
      },
      "execution_count": 5,
      "outputs": []
    },
    {
      "cell_type": "markdown",
      "source": [
        "### **ทดลองเลือก 1 โหมด จาก 4 โหมดที่ให้มา**"
      ],
      "metadata": {
        "id": "cHxeL494nILa"
      }
    },
    {
      "cell_type": "code",
      "source": [
        "#โหมดซ้อนทับ\n",
        "import time\n",
        "from ColabTurtlePlus.Turtle import *\n",
        "clearscreen()\n",
        "C = 60\n",
        "for All in range(3,50):\n",
        "  X = All\n",
        "  R = X\n",
        "  W = X\n",
        "  X /= 12\n",
        "  X = 30 / X\n",
        "  W = 24 / W\n",
        "  W = -225 / W\n",
        "  setup(1000,1000)\n",
        "  T = Turtle()\n",
        "  T.penup()\n",
        "  T.setpos((-1*(C/2)),W)\n",
        "  T.pendown()\n",
        "  pensize(5)\n",
        "  speed(8)\n",
        "  for i in range(R):\n",
        "    T.forward(C)\n",
        "    T.left(X)\n",
        "  time.sleep(1)"
      ],
      "metadata": {
        "id": "Tu7SG-ntnBMZ"
      },
      "execution_count": 8,
      "outputs": []
    },
    {
      "cell_type": "code",
      "source": [
        "#โหมดลบวาดใหม่\n",
        "import time\n",
        "from ColabTurtlePlus.Turtle import *\n",
        "clearscreen()\n",
        "C = 60\n",
        "for All in range(3,50):\n",
        "  X = All\n",
        "  R = X\n",
        "  W = X\n",
        "  X /= 12\n",
        "  X = 30 / X\n",
        "  W = 24 / W\n",
        "  W = -225 / W\n",
        "  setup(1000,1000)\n",
        "  T = Turtle()\n",
        "  T.penup()\n",
        "  T.setpos((-1*(C/2)),W)\n",
        "  T.pendown()\n",
        "  pensize(5)\n",
        "  speed(8)\n",
        "  for i in range(R):\n",
        "    T.forward(C)\n",
        "    T.left(X)\n",
        "  time.sleep(1)\n",
        "  T.clear()"
      ],
      "metadata": {
        "id": "sYH4qXi0kBKs"
      },
      "execution_count": 9,
      "outputs": []
    },
    {
      "cell_type": "code",
      "source": [
        "#โหมดขึ้นหน้าใหม่\n",
        "import time\n",
        "from ColabTurtlePlus.Turtle import *\n",
        "clearscreen()\n",
        "C = 60\n",
        "for All in range(3,50):\n",
        "  X = All\n",
        "  R = X\n",
        "  W = X\n",
        "  X /= 12\n",
        "  X = 30 / X\n",
        "  W = 24 / W\n",
        "  W = -225 / W\n",
        "  setup(1000,1000)\n",
        "  T = Turtle()\n",
        "  T.penup()\n",
        "  T.setpos((-1*(C/2)),W)\n",
        "  T.pendown()\n",
        "  pensize(5)\n",
        "  speed(8)\n",
        "  for i in range(R):\n",
        "    T.forward(C)\n",
        "    T.left(X)\n",
        "  time.sleep(1)\n",
        "  T.clear()"
      ],
      "metadata": {
        "id": "Dh7WHOvAlbzA"
      },
      "execution_count": null,
      "outputs": []
    },
    {
      "cell_type": "code",
      "source": [
        "#โหมดกำหนด\n",
        "import time\n",
        "from ColabTurtlePlus.Turtle import *\n",
        "clearscreen()\n",
        "C = 60\n",
        "X = int(input(\"กรอกจำนวนเหลี่ยม : \"))\n",
        "R = X\n",
        "W = X\n",
        "X /= 12\n",
        "X = 30 / X\n",
        "W = 24 / W\n",
        "W = -225 / W\n",
        "setup(1000,1000)\n",
        "T = Turtle()\n",
        "T.penup()\n",
        "T.setpos((-1*(C/2)),W)\n",
        "T.pendown()\n",
        "pensize(5)\n",
        "speed(8)\n",
        "for i in range(R):\n",
        "  T.forward(C)\n",
        "  T.left(X)"
      ],
      "metadata": {
        "id": "uQjWb9w1l21f"
      },
      "execution_count": 10,
      "outputs": []
    }
  ]
}